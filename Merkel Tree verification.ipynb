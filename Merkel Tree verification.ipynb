{
 "cells": [
  {
   "cell_type": "markdown",
   "id": "b1909f4f",
   "metadata": {},
   "source": [
    "# BlockChain Assignment 1\n",
    "# Group Members: \n",
    "1. Hassan Kamran (202i2435)  \n",
    "2. Abdullah Hameed (20i1799)\n",
    "# Section: AI-J"
   ]
  },
  {
   "cell_type": "markdown",
   "id": "f46baedf",
   "metadata": {},
   "source": [
    "#### (Problem 2) By Hassan Kamran Roll no. i202435\n",
    "#### verification of transactions from merkel tree"
   ]
  },
  {
   "cell_type": "markdown",
   "id": "207e8c12",
   "metadata": {},
   "source": [
    "### creation of merkel tree"
   ]
  },
  {
   "cell_type": "code",
   "execution_count": 370,
   "id": "2691a73b",
   "metadata": {},
   "outputs": [],
   "source": [
    "from collections import defaultdict\n",
    "\n",
    "class MerkleNode:\n",
    "    def __init__(self, hash_value):\n",
    "        self.hash_value = hash_value\n",
    "        self.left = None\n",
    "        self.right = None\n",
    "    \n",
    "    def __add__(self,obj2):\n",
    "        \n",
    "        root = MerkleNode(self.hash_value+obj2.hash_value)\n",
    "        #print('root hash val ',root.hash_value,'c1+c2:',self.hash_value,' ',obj2.hash_value )\n",
    "        return root \n",
    "\n",
    "    def get_hash(self):\n",
    "        return self.hash_value"
   ]
  },
  {
   "cell_type": "code",
   "execution_count": 371,
   "id": "696654b0",
   "metadata": {},
   "outputs": [],
   "source": [
    "# GENERATING PROOF OF TRANSACTIONS:"
   ]
  },
  {
   "cell_type": "code",
   "execution_count": 372,
   "id": "41f6ccb7",
   "metadata": {},
   "outputs": [
    {
     "name": "stdout",
     "output_type": "stream",
     "text": [
      "Root hash is:  45\n"
     ]
    }
   ],
   "source": [
    "    \n",
    "def generate_consecutive_pairs(numbers):\n",
    "    pairs = []\n",
    "    \n",
    "    for i in range(0,len(numbers) - 1,2):\n",
    "        pairs.append(((numbers[i]), (numbers[i + 1])))\n",
    "        \n",
    "    if len(numbers)%2 ==1 : \n",
    "        pairs.append(numbers[-1])\n",
    "\n",
    "    return pairs\n",
    "    \n",
    "def createNodes(List):\n",
    "    temp = []\n",
    "    temp2 = {}\n",
    "    for i in List:\n",
    "        temp.append(MerkleNode(i))\n",
    "        temp2[MerkleNode(i)]=[]\n",
    "    return temp\n",
    "    \n",
    "def add_root(tran1,tran2):\n",
    "    #print('revoked by us: ',tran1,' ',tran2)\n",
    "    return tran1 + tran2\n",
    "\n",
    "def build_tree(input_list):\n",
    "        \n",
    "    child = createNodes(input_list)\n",
    "    ChildDict = defaultdict(list)\n",
    "    #print('Initial: ',child)\n",
    "    while len(child) != 1 and child != tuple:\n",
    "        pairs = generate_consecutive_pairs(child)  \n",
    "        child = []\n",
    "        #print(pairs)\n",
    "        #print(end='\\n\\n')\n",
    "        \n",
    "\n",
    "        for i,Node in enumerate(pairs):\n",
    "            #print('iter ',i)\n",
    "            if type(Node) != tuple:\n",
    "                child.append(Node)\n",
    "                ChildDict[Node.hash_value].append((Node,root))\n",
    "\n",
    "                \n",
    "\n",
    "            else:\n",
    "                c1 = Node[0] #child 1\n",
    "                c2 = Node[1]\n",
    "                root = add_root(c1,c2)\n",
    "                #print('new root hash: ',root.hash_value)\n",
    "                root.left = c1\n",
    "                root.right = c2\n",
    "                child.append(root)\n",
    "                \n",
    "                #FOR PROOF OF TRANSACTION:\n",
    "                \n",
    "                ChildDict[Node[0].hash_value].append((Node[1],root))\n",
    "                ChildDict[Node[1].hash_value].append((Node[0],root))\n",
    "\n",
    "            \n",
    "            ChildDict[root] = []\n",
    "                \n",
    "                #print('just checking node: ',root,' hash: ', root.hash_value)\n",
    "        \n",
    "    return child[0],ChildDict\n",
    "        \n",
    "        \n",
    "input_list = [1, 2,3,4,5,6,7,8,9]\n",
    "root,verifyDict = build_tree(input_list)\n",
    "\n",
    "print('Root hash is: ',root.hash_value)"
   ]
  },
  {
   "cell_type": "markdown",
   "id": "855ec457",
   "metadata": {},
   "source": [
    "## this is the verification dictionary that I will use to verify the transaction proof"
   ]
  },
  {
   "cell_type": "code",
   "execution_count": 373,
   "id": "f747b118",
   "metadata": {},
   "outputs": [
    {
     "name": "stdout",
     "output_type": "stream",
     "text": [
      "defaultdict(<class 'list'>, {1: [(<__main__.MerkleNode object at 0x000002540D93F510>, <__main__.MerkleNode object at 0x000002540D79FE10>)], 2: [(<__main__.MerkleNode object at 0x000002540CBCD290>, <__main__.MerkleNode object at 0x000002540D79FE10>)], <__main__.MerkleNode object at 0x000002540D79FE10>: [], 3: [(<__main__.MerkleNode object at 0x000002540D79FE50>, <__main__.MerkleNode object at 0x000002540D77B990>), (<__main__.MerkleNode object at 0x000002540D77B990>, <__main__.MerkleNode object at 0x000002540D79D910>)], 4: [(<__main__.MerkleNode object at 0x000002540D7790D0>, <__main__.MerkleNode object at 0x000002540D77B990>)], <__main__.MerkleNode object at 0x000002540D77B990>: [], 5: [(<__main__.MerkleNode object at 0x000002540D79E910>, <__main__.MerkleNode object at 0x000002540D757F50>)], 6: [(<__main__.MerkleNode object at 0x000002540D79EA10>, <__main__.MerkleNode object at 0x000002540D757F50>)], <__main__.MerkleNode object at 0x000002540D757F50>: [], 7: [(<__main__.MerkleNode object at 0x000002540D756790>, <__main__.MerkleNode object at 0x000002540D756F50>), (<__main__.MerkleNode object at 0x000002540D79FE10>, <__main__.MerkleNode object at 0x000002540D79D910>)], 8: [(<__main__.MerkleNode object at 0x000002540D755390>, <__main__.MerkleNode object at 0x000002540D756F50>)], <__main__.MerkleNode object at 0x000002540D756F50>: [], 9: [(<__main__.MerkleNode object at 0x000002540D7576D0>, <__main__.MerkleNode object at 0x000002540D756F50>), (<__main__.MerkleNode object at 0x000002540D7576D0>, <__main__.MerkleNode object at 0x000002540D7543D0>), (<__main__.MerkleNode object at 0x000002540D7576D0>, <__main__.MerkleNode object at 0x000002540D757E10>), (<__main__.MerkleNode object at 0x000002540D757E10>, <__main__.MerkleNode object at 0x000002540D756190>)], <__main__.MerkleNode object at 0x000002540D79D910>: [], 11: [(<__main__.MerkleNode object at 0x000002540D756F50>, <__main__.MerkleNode object at 0x000002540D7543D0>)], 15: [(<__main__.MerkleNode object at 0x000002540D757F50>, <__main__.MerkleNode object at 0x000002540D7543D0>)], <__main__.MerkleNode object at 0x000002540D7543D0>: [], 10: [(<__main__.MerkleNode object at 0x000002540D7543D0>, <__main__.MerkleNode object at 0x000002540D757E10>)], 26: [(<__main__.MerkleNode object at 0x000002540D79D910>, <__main__.MerkleNode object at 0x000002540D757E10>)], <__main__.MerkleNode object at 0x000002540D757E10>: [], 36: [(<__main__.MerkleNode object at 0x000002540D7576D0>, <__main__.MerkleNode object at 0x000002540D756190>)], <__main__.MerkleNode object at 0x000002540D756190>: []})\n"
     ]
    }
   ],
   "source": [
    "print(verifyDict) #This dictionary will be used for the verification process"
   ]
  },
  {
   "cell_type": "code",
   "execution_count": 374,
   "id": "56d08a1c",
   "metadata": {},
   "outputs": [],
   "source": [
    "def visualize_merkle_tree(node, depth=0):\n",
    "    if node is None:\n",
    "        return\n",
    "\n",
    "    #prefix = \"  \" * depth\n",
    "    print(f\"{node.get_hash()}\")\n",
    "\n",
    "    visualize_merkle_tree(node.left, depth + 1)\n",
    "    visualize_merkle_tree(node.right, depth + 1)"
   ]
  },
  {
   "cell_type": "markdown",
   "id": "5b5b2821",
   "metadata": {},
   "source": [
    "# Verification"
   ]
  },
  {
   "cell_type": "markdown",
   "id": "c2642662",
   "metadata": {},
   "source": [
    "### This verification is for the hashes in integer number"
   ]
  },
  {
   "cell_type": "code",
   "execution_count": 377,
   "id": "e3a40d69",
   "metadata": {},
   "outputs": [],
   "source": [
    "def verification(trans, verifyDict, root):\n",
    "    key = trans\n",
    "    final_hash=0\n",
    "    while verifyDict[key] != []:\n",
    "        final_hash = final_hash + verifyDict[key][0][0].hash_value\n",
    "        key = verifyDict[key][0][1].hash_value\n",
    "        \n",
    "    flag = True\n",
    "    \n",
    "    if key != root.hash_value:\n",
    "        print('Root is: ',root)\n",
    "        print('Calculated hash is: ',key)\n",
    "        flag = False\n",
    "        \n",
    "    return flag\n",
    "        "
   ]
  },
  {
   "cell_type": "code",
   "execution_count": 378,
   "id": "9012ae2d",
   "metadata": {},
   "outputs": [
    {
     "name": "stdout",
     "output_type": "stream",
     "text": [
      "The original root hash is:  <__main__.MerkleNode object at 0x000002540D756190>\n"
     ]
    }
   ],
   "source": [
    "print(\"The original root hash is: \", root)\n",
    "final_hash = verification(1,verifyDict,root) #pass trasaction hash which i 1 in this case, verification dictionary that contains hierarcal hashes and Root hash"
   ]
  },
  {
   "cell_type": "code",
   "execution_count": 379,
   "id": "627744f5",
   "metadata": {},
   "outputs": [
    {
     "name": "stdout",
     "output_type": "stream",
     "text": [
      "Transaction verified!\n"
     ]
    }
   ],
   "source": [
    "final_hash # which is equal to the original hash\n",
    "if final_hash == True:\n",
    "    print('Transaction verified!')\n",
    "else:\n",
    "    print('Transaction not verified!')\n",
    "    "
   ]
  },
  {
   "cell_type": "markdown",
   "id": "22b3e69d",
   "metadata": {},
   "source": [
    "# now using actual hash function"
   ]
  },
  {
   "cell_type": "code",
   "execution_count": 380,
   "id": "377047c7",
   "metadata": {},
   "outputs": [],
   "source": [
    "import hashlib"
   ]
  },
  {
   "cell_type": "code",
   "execution_count": 381,
   "id": "416b8ed5",
   "metadata": {},
   "outputs": [
    {
     "name": "stdout",
     "output_type": "stream",
     "text": [
      "These are the transactions: \n",
      "0 b'\\xf0\\xb6^\\xc5\\xe5?\\xa0dx\\x88\\xc6\\x83\\xc0\\xac\\xea}\\x18\\xaf\\x99\\xf8\\xacC\\x9aR\\xd8\\x99c9K\\x95\\xe82'\n",
      "1 b'\\xbd\\xe4i>U\\xa36\\xff\\x81\\xab#\\x8c\\xe2\\x0c\\xae\\x1d\\xd9\\xc8\\xba\\x03\\xb9\\xb8\\xf49c\\xf5V\\x9b\\xf3\\xcfR)'\n",
      "2 b'K\\xea\\xce\\x8b\\xdc\\xf9\\xb5\\xb7F0\\xea\\xee.\\x7fP\\x11\\x80\\xe4`%\\xca\\x89\\xb0^~\\x04\\x1f\\xbe\\x95=\\x81z'\n",
      "3 b')7U\\xabc\\x84\\xe0-\\x92\\x02\\xd4\\x83\\xf2\\xf0%\\x01\\x00\\xd7\\x86\\xe7_\\xda\\xb1\\xb6\\xf3\\x92[(\\x00\\xec\\xe3\\xcb'\n"
     ]
    }
   ],
   "source": [
    "transactions = [hashlib.sha256(f'transaction{i}'.encode()).digest() for i in range(4)]\n",
    "print('These are the transactions: ')\n",
    "for i,x in enumerate(transactions):\n",
    "    print(i,x)"
   ]
  },
  {
   "cell_type": "code",
   "execution_count": 382,
   "id": "a9f419a3",
   "metadata": {},
   "outputs": [
    {
     "name": "stdout",
     "output_type": "stream",
     "text": [
      "Root hash is:  b'\\xf0\\xb6^\\xc5\\xe5?\\xa0dx\\x88\\xc6\\x83\\xc0\\xac\\xea}\\x18\\xaf\\x99\\xf8\\xacC\\x9aR\\xd8\\x99c9K\\x95\\xe82\\xbd\\xe4i>U\\xa36\\xff\\x81\\xab#\\x8c\\xe2\\x0c\\xae\\x1d\\xd9\\xc8\\xba\\x03\\xb9\\xb8\\xf49c\\xf5V\\x9b\\xf3\\xcfR)K\\xea\\xce\\x8b\\xdc\\xf9\\xb5\\xb7F0\\xea\\xee.\\x7fP\\x11\\x80\\xe4`%\\xca\\x89\\xb0^~\\x04\\x1f\\xbe\\x95=\\x81z)7U\\xabc\\x84\\xe0-\\x92\\x02\\xd4\\x83\\xf2\\xf0%\\x01\\x00\\xd7\\x86\\xe7_\\xda\\xb1\\xb6\\xf3\\x92[(\\x00\\xec\\xe3\\xcb'\n"
     ]
    }
   ],
   "source": [
    "#input_list = [1, 2,3,4,5,6,7,8,9]\n",
    "root,verifyDict = build_tree(transactions)\n",
    "\n",
    "print('Root hash is: ',root.hash_value)"
   ]
  },
  {
   "cell_type": "code",
   "execution_count": 383,
   "id": "f03d76fb",
   "metadata": {},
   "outputs": [],
   "source": [
    "def verification(trans, verifyDict,root):\n",
    "    key = trans\n",
    "    final_hash=b''\n",
    "    while verifyDict[key] != []:\n",
    "        final_hash = final_hash + verifyDict[key][0][0].hash_value\n",
    "        key = verifyDict[key][0][1].hash_value\n",
    "        \n",
    "    flag = True\n",
    "    for i,j in zip(key,root.hash_value):\n",
    "        if i != j:\n",
    "            flag = False        \n",
    "    return key,flag\n",
    "        "
   ]
  },
  {
   "cell_type": "code",
   "execution_count": 386,
   "id": "3536dd7a",
   "metadata": {},
   "outputs": [
    {
     "name": "stdout",
     "output_type": "stream",
     "text": [
      "Transaction Verified!\n"
     ]
    }
   ],
   "source": [
    "final_hash,flag = verification(transactions[1],verifyDict,root)\n",
    "\n",
    "if flag == True:\n",
    "    print('Transaction Verified!')\n",
    "else:\n",
    "    print('Note Verified')\n",
    "    "
   ]
  },
  {
   "cell_type": "code",
   "execution_count": 387,
   "id": "463445c3",
   "metadata": {},
   "outputs": [
    {
     "data": {
      "text/plain": [
       "(b'\\xf0\\xb6^\\xc5\\xe5?\\xa0dx\\x88\\xc6\\x83\\xc0\\xac\\xea}\\x18\\xaf\\x99\\xf8\\xacC\\x9aR\\xd8\\x99c9K\\x95\\xe82\\xbd\\xe4i>U\\xa36\\xff\\x81\\xab#\\x8c\\xe2\\x0c\\xae\\x1d\\xd9\\xc8\\xba\\x03\\xb9\\xb8\\xf49c\\xf5V\\x9b\\xf3\\xcfR)K\\xea\\xce\\x8b\\xdc\\xf9\\xb5\\xb7F0\\xea\\xee.\\x7fP\\x11\\x80\\xe4`%\\xca\\x89\\xb0^~\\x04\\x1f\\xbe\\x95=\\x81z)7U\\xabc\\x84\\xe0-\\x92\\x02\\xd4\\x83\\xf2\\xf0%\\x01\\x00\\xd7\\x86\\xe7_\\xda\\xb1\\xb6\\xf3\\x92[(\\x00\\xec\\xe3\\xcb',\n",
       " b'\\xf0\\xb6^\\xc5\\xe5?\\xa0dx\\x88\\xc6\\x83\\xc0\\xac\\xea}\\x18\\xaf\\x99\\xf8\\xacC\\x9aR\\xd8\\x99c9K\\x95\\xe82\\xbd\\xe4i>U\\xa36\\xff\\x81\\xab#\\x8c\\xe2\\x0c\\xae\\x1d\\xd9\\xc8\\xba\\x03\\xb9\\xb8\\xf49c\\xf5V\\x9b\\xf3\\xcfR)K\\xea\\xce\\x8b\\xdc\\xf9\\xb5\\xb7F0\\xea\\xee.\\x7fP\\x11\\x80\\xe4`%\\xca\\x89\\xb0^~\\x04\\x1f\\xbe\\x95=\\x81z)7U\\xabc\\x84\\xe0-\\x92\\x02\\xd4\\x83\\xf2\\xf0%\\x01\\x00\\xd7\\x86\\xe7_\\xda\\xb1\\xb6\\xf3\\x92[(\\x00\\xec\\xe3\\xcb')"
      ]
     },
     "execution_count": 387,
     "metadata": {},
     "output_type": "execute_result"
    }
   ],
   "source": [
    "final_hash, root.hash_value #just for seeing the values "
   ]
  },
  {
   "cell_type": "markdown",
   "id": "6e38fdac",
   "metadata": {},
   "source": [
    "#### (Problem 1) By Abdullah Hammed Roll no. 20i1799"
   ]
  },
  {
   "cell_type": "code",
   "execution_count": 388,
   "id": "34c3529c",
   "metadata": {},
   "outputs": [
    {
     "name": "stdout",
     "output_type": "stream",
     "text": [
      "Input 1: 110158270378238045996445726836066360220\n",
      "Input 2: 188900606118010716240243424193999537289\n",
      "Hash 1: 209d6546\n",
      "Hash 2: 209d6566\n"
     ]
    },
    {
     "ename": "KeyboardInterrupt",
     "evalue": "",
     "output_type": "error",
     "traceback": [
      "\u001b[1;31m---------------------------------------------------------------------------\u001b[0m",
      "\u001b[1;31mKeyboardInterrupt\u001b[0m                         Traceback (most recent call last)",
      "Cell \u001b[1;32mIn[388], line 45\u001b[0m\n\u001b[0;32m     43\u001b[0m \u001b[38;5;66;03m# Wait for all threads to finish or for a match to be found\u001b[39;00m\n\u001b[0;32m     44\u001b[0m \u001b[38;5;28;01mfor\u001b[39;00m thread \u001b[38;5;129;01min\u001b[39;00m threads:\n\u001b[1;32m---> 45\u001b[0m     thread\u001b[38;5;241m.\u001b[39mjoin()\n\u001b[0;32m     47\u001b[0m \u001b[38;5;66;03m# Signal other threads to stop\u001b[39;00m\n\u001b[0;32m     48\u001b[0m found_match \u001b[38;5;241m=\u001b[39m \u001b[38;5;28;01mTrue\u001b[39;00m\n",
      "File \u001b[1;32m~\\anaconda3\\Lib\\threading.py:1112\u001b[0m, in \u001b[0;36mThread.join\u001b[1;34m(self, timeout)\u001b[0m\n\u001b[0;32m   1109\u001b[0m     \u001b[38;5;28;01mraise\u001b[39;00m \u001b[38;5;167;01mRuntimeError\u001b[39;00m(\u001b[38;5;124m\"\u001b[39m\u001b[38;5;124mcannot join current thread\u001b[39m\u001b[38;5;124m\"\u001b[39m)\n\u001b[0;32m   1111\u001b[0m \u001b[38;5;28;01mif\u001b[39;00m timeout \u001b[38;5;129;01mis\u001b[39;00m \u001b[38;5;28;01mNone\u001b[39;00m:\n\u001b[1;32m-> 1112\u001b[0m     \u001b[38;5;28mself\u001b[39m\u001b[38;5;241m.\u001b[39m_wait_for_tstate_lock()\n\u001b[0;32m   1113\u001b[0m \u001b[38;5;28;01melse\u001b[39;00m:\n\u001b[0;32m   1114\u001b[0m     \u001b[38;5;66;03m# the behavior of a negative timeout isn't documented, but\u001b[39;00m\n\u001b[0;32m   1115\u001b[0m     \u001b[38;5;66;03m# historically .join(timeout=x) for x<0 has acted as if timeout=0\u001b[39;00m\n\u001b[0;32m   1116\u001b[0m     \u001b[38;5;28mself\u001b[39m\u001b[38;5;241m.\u001b[39m_wait_for_tstate_lock(timeout\u001b[38;5;241m=\u001b[39m\u001b[38;5;28mmax\u001b[39m(timeout, \u001b[38;5;241m0\u001b[39m))\n",
      "File \u001b[1;32m~\\anaconda3\\Lib\\threading.py:1132\u001b[0m, in \u001b[0;36mThread._wait_for_tstate_lock\u001b[1;34m(self, block, timeout)\u001b[0m\n\u001b[0;32m   1129\u001b[0m     \u001b[38;5;28;01mreturn\u001b[39;00m\n\u001b[0;32m   1131\u001b[0m \u001b[38;5;28;01mtry\u001b[39;00m:\n\u001b[1;32m-> 1132\u001b[0m     \u001b[38;5;28;01mif\u001b[39;00m lock\u001b[38;5;241m.\u001b[39macquire(block, timeout):\n\u001b[0;32m   1133\u001b[0m         lock\u001b[38;5;241m.\u001b[39mrelease()\n\u001b[0;32m   1134\u001b[0m         \u001b[38;5;28mself\u001b[39m\u001b[38;5;241m.\u001b[39m_stop()\n",
      "\u001b[1;31mKeyboardInterrupt\u001b[0m: "
     ]
    }
   ],
   "source": [
    "import hashlib\n",
    "import random\n",
    "import threading\n",
    "\n",
    "def generate_random_input():\n",
    "    return str(random.randint(0, 2**128))\n",
    "\n",
    "# Shared variable to signal other threads to stop\n",
    "found_match = False\n",
    "\n",
    "def SHA0_125(prefix_length):\n",
    "    global found_match\n",
    "    while not found_match:\n",
    "        input1 = 1\n",
    "        input2 = 1\n",
    "        while input1 == input2:\n",
    "            input1 = generate_random_input()\n",
    "            input2 = generate_random_input()\n",
    "\n",
    "        hash1 = hashlib.sha256(input1.encode()).hexdigest()[:8]\n",
    "        hash2 = hashlib.sha256(input2.encode()).hexdigest()[:8]\n",
    "\n",
    "        if hash1[:prefix_length] == hash2[:prefix_length]:\n",
    "            found_match = True\n",
    "            print(\"Input 1:\", input1)\n",
    "            print(\"Input 2:\", input2)\n",
    "            print(\"Hash 1:\", hash1)\n",
    "            print(\"Hash 2:\", hash2)\n",
    "\n",
    "# Set the desired prefix length (e.g., 8 bits)\n",
    "prefix_length = 6\n",
    "\n",
    "# Number of threads to run in parallel\n",
    "num_threads = 8\n",
    "\n",
    "# Create and start multiple threads\n",
    "threads = []\n",
    "for _ in range(num_threads):\n",
    "    thread = threading.Thread(target=SHA0_125, args=(prefix_length,))\n",
    "    threads.append(thread)\n",
    "    thread.start()\n",
    "\n",
    "# Wait for all threads to finish or for a match to be found\n",
    "for thread in threads:\n",
    "    thread.join()\n",
    "\n",
    "# Signal other threads to stop\n",
    "found_match = True"
   ]
  },
  {
   "cell_type": "code",
   "execution_count": 397,
   "id": "1ccbd3a7",
   "metadata": {},
   "outputs": [
    {
     "data": {
      "image/png": "[encoded data removed]",
      "text/plain": [
       "<PIL.JpegImagePlugin.JpegImageFile image mode=RGB size=609x126>"
      ]
     },
     "execution_count": 397,
     "metadata": {},
     "output_type": "execute_result"
    }
   ],
   "source": [
    "from PIL import Image\n",
    "Image.open(r'C:\\Users\\Hassan\\Desktop\\SEMESTER 7\\BLOCKCHAIN\\ASSIGNMENT 2\\collision in sha125.jpg')"
   ]
  },
  {
   "cell_type": "code",
   "execution_count": null,
   "id": "944d1f23",
   "metadata": {},
   "outputs": [],
   "source": []
  }
 ],
 "metadata": {
  "kernelspec": {
   "display_name": "Python 3 (ipykernel)",
   "language": "python",
   "name": "python3"
  },
  "language_info": {
   "codemirror_mode": {
    "name": "ipython",
    "version": 3
   },
   "file_extension": ".py",
   "mimetype": "text/x-python",
   "name": "python",
   "nbconvert_exporter": "python",
   "pygments_lexer": "ipython3",
   "version": "3.11.3"
  }
 },
 "nbformat": 4,
 "nbformat_minor": 5
}
